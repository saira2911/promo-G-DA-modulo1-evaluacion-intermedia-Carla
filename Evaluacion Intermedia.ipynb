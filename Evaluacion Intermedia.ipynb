{
 "cells": [
  {
   "cell_type": "markdown",
   "metadata": {},
   "source": [
    "**Parte 1: Strings**"
   ]
  },
  {
   "cell_type": "markdown",
   "metadata": {},
   "source": [
    "1. Dada una cadena de texto, contar cuántas veces aparece una letra específica en ella. Usa un input para que el usuario elija la letra a buscar."
   ]
  },
  {
   "cell_type": "code",
   "execution_count": 13,
   "metadata": {},
   "outputs": [
    {
     "data": {
      "text/plain": [
       "4"
      ]
     },
     "execution_count": 13,
     "metadata": {},
     "output_type": "execute_result"
    }
   ],
   "source": [
    "cadena = \"Python es un lenguaje de programación muy popular\"\n",
    "#Solicito al usuario la letra con input\n",
    "letra = input(\"Por favor, indique la letra que quiere buscar\")\n",
    "\n",
    "#Funcion para que cuente la letra, poniendo la cadena y la letra en minusculas por si quiere contar la P que cuente tambien la primera\n",
    "cadena.lower().count(letra.lower())"
   ]
  },
  {
   "cell_type": "markdown",
   "metadata": {},
   "source": [
    "2. Escribe un programa que tome la siguiente cadena de texto y reemplace una palabra específica por otra palabra. La palabra a reemplazar y reemplazada deben ser elegidas por el usuario."
   ]
  },
  {
   "cell_type": "code",
   "execution_count": 14,
   "metadata": {},
   "outputs": [
    {
     "data": {
      "text/plain": [
       "'Python en genial. Python en fácil de aprender.'"
      ]
     },
     "execution_count": 14,
     "metadata": {},
     "output_type": "execute_result"
    }
   ],
   "source": [
    "cadena = \"Python es genial. Python es fácil de aprender.\"\n",
    "#Solicito al usuario ambas palabras con input\n",
    "palabra_sustituida = input(\"Indica la palabra que quieres reemplazar\")\n",
    "palabra_sustituta = input(\"Indica con que palabra la quieres sustituir\")\n",
    "\n",
    "cadena.replace(palabra_sustituida, palabra_sustituta)"
   ]
  },
  {
   "cell_type": "markdown",
   "metadata": {},
   "source": [
    "3. Toma la siguiente oración y divídela en una lista de palabras. Luego, únelas nuevamente en una sola cadena de texto."
   ]
  },
  {
   "cell_type": "code",
   "execution_count": 24,
   "metadata": {},
   "outputs": [
    {
     "name": "stdout",
     "output_type": "stream",
     "text": [
      "Esto es una oración de ejemplo\n"
     ]
    }
   ],
   "source": [
    "oracion = \"Esto es una oración de ejemplo\"\n",
    "#Convierto el string en lista\n",
    "lista_oracion = oracion.split()\n",
    "\n",
    "oracion1 = \" \".join(lista_oracion)\n",
    "print(oracion1)\n"
   ]
  },
  {
   "cell_type": "markdown",
   "metadata": {},
   "source": [
    "4. Desarrolla un programa que cuente cuántas palabras hay en la siguiente frase."
   ]
  },
  {
   "cell_type": "code",
   "execution_count": 20,
   "metadata": {},
   "outputs": [
    {
     "data": {
      "text/plain": [
       "7"
      ]
     },
     "execution_count": 20,
     "metadata": {},
     "output_type": "execute_result"
    }
   ],
   "source": [
    "cadena = \"Esta es una cadena con cinco palabras\"\n",
    "#convierto el string en lista\n",
    "lista_cadena = cadena.split()\n",
    "#cuento los elementos de la lista\n",
    "len(lista_cadena)\n"
   ]
  },
  {
   "cell_type": "markdown",
   "metadata": {},
   "source": [
    "5. Escribe un programa que invierta una cadena de texto dada por un usuario. Mira el siguiente ejemplo para entender lo que se pide:"
   ]
  },
  {
   "cell_type": "code",
   "execution_count": 144,
   "metadata": {},
   "outputs": [
    {
     "name": "stdout",
     "output_type": "stream",
     "text": [
      "martes es mañana\n"
     ]
    }
   ],
   "source": [
    "#La frase la tiene que dar el usuario\n",
    "cadena = input(\"Introduce una frase\")\n",
    "#convierto el string en lista\n",
    "lista_cadena = cadena.split()\n",
    "#Invierto el orden de la lista\n",
    "lista_cadena.reverse()\n",
    "#Vuelvo a unir la lista en un string\n",
    "cadena1 = \" \".join(lista_cadena)\n",
    "print(cadena1)\n"
   ]
  },
  {
   "cell_type": "markdown",
   "metadata": {},
   "source": [
    "6. Crea un programa que busque una palabra específica(elegida por la usuaria) en una cadena de texto e indique su posición."
   ]
  },
  {
   "cell_type": "code",
   "execution_count": 145,
   "metadata": {},
   "outputs": [
    {
     "ename": "ValueError",
     "evalue": "'hola' is not in list",
     "output_type": "error",
     "traceback": [
      "\u001b[0;31m---------------------------------------------------------------------------\u001b[0m",
      "\u001b[0;31mValueError\u001b[0m                                Traceback (most recent call last)",
      "\u001b[0;32m/tmp/ipykernel_2642/1733230890.py\u001b[0m in \u001b[0;36m<module>\u001b[0;34m\u001b[0m\n\u001b[1;32m      7\u001b[0m \u001b[0mlista_cadena\u001b[0m \u001b[0;34m=\u001b[0m \u001b[0mcadena\u001b[0m\u001b[0;34m.\u001b[0m\u001b[0mlower\u001b[0m\u001b[0;34m(\u001b[0m\u001b[0;34m)\u001b[0m\u001b[0;34m.\u001b[0m\u001b[0msplit\u001b[0m\u001b[0;34m(\u001b[0m\u001b[0;34m)\u001b[0m\u001b[0;34m\u001b[0m\u001b[0;34m\u001b[0m\u001b[0m\n\u001b[1;32m      8\u001b[0m \u001b[0;31m#buscamos el indice de la palabra indicada por la usuaria\u001b[0m\u001b[0;34m\u001b[0m\u001b[0;34m\u001b[0m\u001b[0m\n\u001b[0;32m----> 9\u001b[0;31m \u001b[0mlista_cadena\u001b[0m\u001b[0;34m.\u001b[0m\u001b[0mindex\u001b[0m\u001b[0;34m(\u001b[0m\u001b[0mpalabra\u001b[0m\u001b[0;34m.\u001b[0m\u001b[0mlower\u001b[0m\u001b[0;34m(\u001b[0m\u001b[0;34m)\u001b[0m\u001b[0;34m)\u001b[0m\u001b[0;34m\u001b[0m\u001b[0;34m\u001b[0m\u001b[0m\n\u001b[0m",
      "\u001b[0;31mValueError\u001b[0m: 'hola' is not in list"
     ]
    }
   ],
   "source": [
    "cadena = \"Hoy es lunes y tenemos la evaluacion intermedia\"\n",
    "palabra = input(\"Indique la palabra que quiere buscar\")\n",
    "#Si lo que queremos es buscar en que posicion del string empieza la palabra:\n",
    "cadena.find(palabra)\n",
    "#Si lo que queremos es que nos diga si es la palabra nº 0 o la nº 3:\n",
    "#convertimos el string en lista\n",
    "lista_cadena = cadena.lower().split()\n",
    "#buscamos el indice de la palabra indicada por la usuaria\n",
    "lista_cadena.index(palabra.lower())"
   ]
  },
  {
   "cell_type": "markdown",
   "metadata": {},
   "source": [
    "**Parte 2: Listas**"
   ]
  },
  {
   "cell_type": "markdown",
   "metadata": {},
   "source": [
    "1. Dada la siguiente lista: frutas = ['manzana', 'pera', 'banana', 'uva', 'kiwi'], realiza lo siguiente:\n",
    "- a) Reemplaza el segundo elemento con 'durazno'.\n",
    "- b) Agrega 'naranja' al final de la lista.\n",
    "- c) Extrae y muestra por pantalla el tercer elemento de la lista."
   ]
  },
  {
   "cell_type": "code",
   "execution_count": 31,
   "metadata": {},
   "outputs": [
    {
     "name": "stdout",
     "output_type": "stream",
     "text": [
      "banana\n"
     ]
    }
   ],
   "source": [
    "frutas = ['manzana', 'pera', 'banana', 'uva', 'kiwi']\n",
    "#sustituyo pera por durazno\n",
    "frutas[1] = 'durazno'\n",
    "#añado naranja al final de la lista\n",
    "frutas.append('naranja')\n",
    "#muestro el tercer elemento que esta en el indice 2\n",
    "print(frutas[2])"
   ]
  },
  {
   "cell_type": "markdown",
   "metadata": {},
   "source": [
    "2. Crea una lista llamada numeros que contenga los siguientes valores: 10, 25, 15, 30, 20."
   ]
  },
  {
   "cell_type": "code",
   "execution_count": 33,
   "metadata": {},
   "outputs": [],
   "source": [
    "numeros = [10, 25, 15, 30, 20]"
   ]
  },
  {
   "cell_type": "markdown",
   "metadata": {},
   "source": [
    "3. Agrega el valor 35 al incio de la lista numeros."
   ]
  },
  {
   "cell_type": "code",
   "execution_count": 146,
   "metadata": {},
   "outputs": [
    {
     "name": "stdout",
     "output_type": "stream",
     "text": [
      "[35, 10, 25, 15, 30, 20]\n"
     ]
    }
   ],
   "source": [
    "\n",
    "#Pide que la agreges al inicio\n",
    "#numeros.append(35)\n",
    "numeros.insert(0,35)\n",
    "print(numeros)"
   ]
  },
  {
   "cell_type": "markdown",
   "metadata": {},
   "source": [
    "4. Ordena la lista numeros en orden ascendente."
   ]
  },
  {
   "cell_type": "code",
   "execution_count": 36,
   "metadata": {},
   "outputs": [
    {
     "name": "stdout",
     "output_type": "stream",
     "text": [
      "[10, 15, 20, 25, 30, 35]\n"
     ]
    }
   ],
   "source": [
    "numeros.sort()\n",
    "print(numeros)"
   ]
  },
  {
   "cell_type": "markdown",
   "metadata": {},
   "source": [
    "5. Dada la siguiente lista numeros2 = [45, 22, 19, 38, 29]. Crea una nueva lista llamada numeros3 donde tengamos la unión de los todos los elementos de las dos listas (numeros y numeros2) de tal forma que el resultado final sea:"
   ]
  },
  {
   "cell_type": "code",
   "execution_count": 40,
   "metadata": {},
   "outputs": [
    {
     "name": "stdout",
     "output_type": "stream",
     "text": [
      "[10, 25, 15, 30, 20, 45, 22, 19, 38, 29]\n"
     ]
    }
   ],
   "source": [
    "numeros = [10, 25, 15, 30, 20]\n",
    "numeros2 = [45, 22, 19, 38, 29]\n",
    "\n",
    "numeros3 = numeros + numeros2\n",
    "print(numeros3)\n"
   ]
  },
  {
   "cell_type": "code",
   "execution_count": 150,
   "metadata": {},
   "outputs": [
    {
     "name": "stdout",
     "output_type": "stream",
     "text": [
      "[10, 25, 15, 30, 20, 45, 22, 19, 38, 29]\n"
     ]
    }
   ],
   "source": [
    "#otra forma de hacerlo\n",
    "\n",
    "numeros = [10, 25, 15, 30, 20]\n",
    "numeros2 = [45, 22, 19, 38, 29]\n",
    "\n",
    "numeros3 = numeros.copy()\n",
    "numeros3.extend(numeros2)\n",
    "print(numeros3)"
   ]
  },
  {
   "cell_type": "markdown",
   "metadata": {},
   "source": [
    "6. Elimina el último elemento de la lista numeros3."
   ]
  },
  {
   "cell_type": "code",
   "execution_count": 149,
   "metadata": {},
   "outputs": [
    {
     "name": "stdout",
     "output_type": "stream",
     "text": [
      "[10, 25, 15, 30, 20, 45, 22, 19, 38]\n"
     ]
    }
   ],
   "source": [
    "numeros3.pop()\n",
    "print(numeros3)"
   ]
  },
  {
   "cell_type": "code",
   "execution_count": 151,
   "metadata": {},
   "outputs": [
    {
     "name": "stdout",
     "output_type": "stream",
     "text": [
      "[10, 25, 15, 30, 20, 45, 22, 19, 38]\n"
     ]
    }
   ],
   "source": [
    "#otra forma de hacerlo\n",
    "\n",
    "numeros3.remove(numeros3[-1])\n",
    "print(numeros3)"
   ]
  },
  {
   "cell_type": "markdown",
   "metadata": {},
   "source": [
    "7. Elimina el número 30 de la lista numeros3."
   ]
  },
  {
   "cell_type": "code",
   "execution_count": 42,
   "metadata": {},
   "outputs": [
    {
     "name": "stdout",
     "output_type": "stream",
     "text": [
      "[10, 25, 15, 20, 45, 22, 19, 38]\n"
     ]
    }
   ],
   "source": [
    "numeros3.remove(30)\n",
    "print(numeros3)"
   ]
  },
  {
   "cell_type": "markdown",
   "metadata": {},
   "source": [
    "**Parte 3: Tuplas**"
   ]
  },
  {
   "cell_type": "markdown",
   "metadata": {},
   "source": [
    "1. Crea una tupla llamada colores que contenga los siguientes valores: 'rojo', 'verde', 'azul', 'amarillo', 'morado'."
   ]
  },
  {
   "cell_type": "code",
   "execution_count": 43,
   "metadata": {},
   "outputs": [
    {
     "data": {
      "text/plain": [
       "tuple"
      ]
     },
     "execution_count": 43,
     "metadata": {},
     "output_type": "execute_result"
    }
   ],
   "source": [
    "colores = 'rojo', 'verde', 'azul', 'amarillo', 'morado'\n",
    "type(colores)"
   ]
  },
  {
   "cell_type": "markdown",
   "metadata": {},
   "source": [
    "2. Encuentra el índice de 'verde' en la tupla colores."
   ]
  },
  {
   "cell_type": "code",
   "execution_count": 44,
   "metadata": {},
   "outputs": [
    {
     "data": {
      "text/plain": [
       "1"
      ]
     },
     "execution_count": 44,
     "metadata": {},
     "output_type": "execute_result"
    }
   ],
   "source": [
    "colores.index(\"verde\")"
   ]
  },
  {
   "cell_type": "markdown",
   "metadata": {},
   "source": [
    "3. ¿Cuántas veces aparece 'azul' en la tupla colores?"
   ]
  },
  {
   "cell_type": "code",
   "execution_count": 45,
   "metadata": {},
   "outputs": [
    {
     "data": {
      "text/plain": [
       "1"
      ]
     },
     "execution_count": 45,
     "metadata": {},
     "output_type": "execute_result"
    }
   ],
   "source": [
    "colores.count(\"azul\")"
   ]
  },
  {
   "cell_type": "markdown",
   "metadata": {},
   "source": [
    "4. Añade el color \"morado\" a la tupla colores. ¿Qué ha pasado? ¿Por qué? Como podríamos añadir el elemento \"morado\"."
   ]
  },
  {
   "cell_type": "code",
   "execution_count": 51,
   "metadata": {},
   "outputs": [
    {
     "name": "stdout",
     "output_type": "stream",
     "text": [
      "['rojo', 'verde', 'azul', 'amarillo', 'morado']\n",
      "['rojo', 'verde', 'azul', 'amarillo', 'morado', 'morado']\n",
      "('rojo', 'verde', 'azul', 'amarillo', 'morado', 'morado')\n"
     ]
    }
   ],
   "source": [
    "#Las tuplas son inmutables, no se les pueden añadir elementos\n",
    "# para añadir morado podemos convertir la tupla en lista, añadir morado y volver a convertir en tupla\n",
    "lista_colores = list(colores)\n",
    "print(lista_colores)\n",
    "lista_colores.append(\"morado\")\n",
    "print(lista_colores)\n",
    "colores = tuple(lista_colores)\n",
    "print(colores)"
   ]
  },
  {
   "cell_type": "markdown",
   "metadata": {},
   "source": [
    "**Parte 4: Diccionarios**"
   ]
  },
  {
   "cell_type": "markdown",
   "metadata": {},
   "source": [
    "1. Crea un diccionario llamado frutas con las siguientes parejas clave-valor:\n",
    "- 'manzana': 2\n",
    "- 'banana': 3\n",
    "- 'uva': 5\n",
    "- 'pera': 4"
   ]
  },
  {
   "cell_type": "code",
   "execution_count": 80,
   "metadata": {},
   "outputs": [],
   "source": [
    "frutas = {\"manzana\" : 2, \"banana\" : 3, \"uva\" : 5, \"pera\" : 4}"
   ]
  },
  {
   "cell_type": "markdown",
   "metadata": {},
   "source": [
    "2. Saca una lista de todas las frutas en el diccionario."
   ]
  },
  {
   "cell_type": "code",
   "execution_count": 81,
   "metadata": {},
   "outputs": [
    {
     "data": {
      "text/plain": [
       "['manzana', 'banana', 'uva', 'pera']"
      ]
     },
     "execution_count": 81,
     "metadata": {},
     "output_type": "execute_result"
    }
   ],
   "source": [
    "list(frutas.keys())"
   ]
  },
  {
   "cell_type": "markdown",
   "metadata": {},
   "source": [
    "3. Saca una lista de todas las cantidades en el diccionario."
   ]
  },
  {
   "cell_type": "code",
   "execution_count": 82,
   "metadata": {},
   "outputs": [
    {
     "data": {
      "text/plain": [
       "[2, 3, 5, 4]"
      ]
     },
     "execution_count": 82,
     "metadata": {},
     "output_type": "execute_result"
    }
   ],
   "source": [
    "list(frutas.values())"
   ]
  },
  {
   "cell_type": "markdown",
   "metadata": {},
   "source": [
    "4. ¿Qué cantidad de 'manzana' tenemos?. Si la clave 'manzana' no está presente, devuelve un mensaje diciendo \"No existe esa clave\"."
   ]
  },
  {
   "cell_type": "code",
   "execution_count": 83,
   "metadata": {},
   "outputs": [
    {
     "data": {
      "text/plain": [
       "2"
      ]
     },
     "execution_count": 83,
     "metadata": {},
     "output_type": "execute_result"
    }
   ],
   "source": [
    "frutas.get(\"manzana\", \"No existe esa clave\")"
   ]
  },
  {
   "cell_type": "markdown",
   "metadata": {},
   "source": [
    "5. Agrega un nuevo par de clave-valor al diccionario frutas: 'kiwi' con una cantidad de 6."
   ]
  },
  {
   "cell_type": "code",
   "execution_count": 84,
   "metadata": {},
   "outputs": [
    {
     "name": "stdout",
     "output_type": "stream",
     "text": [
      "{'manzana': 2, 'banana': 3, 'uva': 5, 'pera': 4, 'kiwi': 6}\n"
     ]
    }
   ],
   "source": [
    "frutas.update({\"kiwi\" : 6})\n",
    "print(frutas)"
   ]
  },
  {
   "cell_type": "markdown",
   "metadata": {},
   "source": [
    "6. Cambia la cantidad de 'uva' a 8."
   ]
  },
  {
   "cell_type": "code",
   "execution_count": 152,
   "metadata": {},
   "outputs": [
    {
     "name": "stdout",
     "output_type": "stream",
     "text": [
      "{'manzana': 2, 'banana': 3, 'pera': 4, 'kiwi': 6, 'sandia': 7, 'uva': 8}\n"
     ]
    }
   ],
   "source": [
    "frutas[\"uva\"] = 8\n",
    "print(frutas)"
   ]
  },
  {
   "cell_type": "markdown",
   "metadata": {},
   "source": [
    "7. Crea un segundo diccionario llamado frutas_nuevas con las siguientes parejas clave-valor:\n",
    "- 'sandía': 7\n",
    "- 'mango': 4"
   ]
  },
  {
   "cell_type": "code",
   "execution_count": 86,
   "metadata": {},
   "outputs": [],
   "source": [
    "frutas_nuevas = {\"sandia\" : 7, \"mango\" : 4}"
   ]
  },
  {
   "cell_type": "markdown",
   "metadata": {},
   "source": [
    "8. Combinar los dos diccionarios frutas_nuevas y frutas en uno nuevos llamado frutas_total."
   ]
  },
  {
   "cell_type": "code",
   "execution_count": 88,
   "metadata": {},
   "outputs": [
    {
     "name": "stdout",
     "output_type": "stream",
     "text": [
      "{'manzana': 2, 'banana': 3, 'uva': 6, 'pera': 4, 'kiwi': 6, 'sandia': 7, 'mango': 4}\n"
     ]
    }
   ],
   "source": [
    "frutas_total = frutas\n",
    "frutas_total.update(frutas_nuevas)\n",
    "print(frutas_total)"
   ]
  },
  {
   "cell_type": "markdown",
   "metadata": {},
   "source": [
    "9. Elimina el último par de clave-valor del diccionario fruta_total."
   ]
  },
  {
   "cell_type": "code",
   "execution_count": 89,
   "metadata": {},
   "outputs": [
    {
     "name": "stdout",
     "output_type": "stream",
     "text": [
      "{'manzana': 2, 'banana': 3, 'uva': 6, 'pera': 4, 'kiwi': 6, 'sandia': 7}\n"
     ]
    }
   ],
   "source": [
    "frutas_total.popitem()\n",
    "print(frutas_total)"
   ]
  },
  {
   "cell_type": "markdown",
   "metadata": {},
   "source": [
    "10. Elimina el par de clave-valor correspondiente a la clave 'uva' del diccionario."
   ]
  },
  {
   "cell_type": "code",
   "execution_count": 90,
   "metadata": {},
   "outputs": [
    {
     "name": "stdout",
     "output_type": "stream",
     "text": [
      "{'manzana': 2, 'banana': 3, 'pera': 4, 'kiwi': 6, 'sandia': 7}\n"
     ]
    }
   ],
   "source": [
    "frutas_total.pop(\"uva\")\n",
    "print(frutas_total)"
   ]
  },
  {
   "cell_type": "markdown",
   "metadata": {},
   "source": [
    "11. Agregar la fruta 'manzana' con una cantidad de 10 al diccionario. Si ya existe, no se realizarán cambios en los valores que teníamos."
   ]
  },
  {
   "cell_type": "code",
   "execution_count": 91,
   "metadata": {},
   "outputs": [
    {
     "name": "stdout",
     "output_type": "stream",
     "text": [
      "{'manzana': 2, 'banana': 3, 'pera': 4, 'kiwi': 6, 'sandia': 7}\n"
     ]
    }
   ],
   "source": [
    "frutas_total.setdefault(\"manzana\", 10)\n",
    "print(frutas_total)"
   ]
  },
  {
   "cell_type": "markdown",
   "metadata": {},
   "source": [
    "12. Combinar métodos de listas y diccionarios:\n",
    "- Obtén una lista de todas las cantidades en el diccionario y calcula suma total de las cantidades del diccionario frutas_total.\n",
    "- Utilizando la lista creada en el apartado anterior encuentra la cantidad más grande y más pequeña."
   ]
  },
  {
   "cell_type": "code",
   "execution_count": 98,
   "metadata": {},
   "outputs": [
    {
     "name": "stdout",
     "output_type": "stream",
     "text": [
      "[2, 3, 4, 6, 7]\n",
      "La suma de las cantidades es: 22\n"
     ]
    }
   ],
   "source": [
    "lista_frutas_total = list(frutas_total.values())\n",
    "print(lista_frutas_total)\n",
    "print(f\"La suma de las cantidades es: {sum(lista_frutas_total)}\")"
   ]
  },
  {
   "cell_type": "code",
   "execution_count": 96,
   "metadata": {},
   "outputs": [
    {
     "name": "stdout",
     "output_type": "stream",
     "text": [
      "La cantidad maxima es: 7\n",
      "La cantidad minima es: 2\n"
     ]
    }
   ],
   "source": [
    "print(f\"La cantidad maxima es: {max(lista_frutas_total)}\")\n",
    "print(f\"La cantidad minima es: {min(lista_frutas_total)}\")"
   ]
  },
  {
   "cell_type": "markdown",
   "metadata": {},
   "source": [
    "**Parte 5: Métodos de Sets**"
   ]
  },
  {
   "cell_type": "markdown",
   "metadata": {},
   "source": [
    "1. Crea un set llamado conjunto1 con los números del 1 al 5."
   ]
  },
  {
   "cell_type": "code",
   "execution_count": 99,
   "metadata": {},
   "outputs": [],
   "source": [
    "conjunto1 = {1, 2, 3, 4, 5}"
   ]
  },
  {
   "cell_type": "markdown",
   "metadata": {},
   "source": [
    "2. Crea otro set llamado conjunto2 con los números del 4 al 8."
   ]
  },
  {
   "cell_type": "code",
   "execution_count": 100,
   "metadata": {},
   "outputs": [],
   "source": [
    "conjunto2 = {4, 5, 6, 7, 8}"
   ]
  },
  {
   "cell_type": "markdown",
   "metadata": {},
   "source": [
    "3. Obtén la unión de conjunto1 y conjunto2."
   ]
  },
  {
   "cell_type": "code",
   "execution_count": 102,
   "metadata": {},
   "outputs": [
    {
     "data": {
      "text/plain": [
       "{1, 2, 3, 4, 5, 6, 7, 8}"
      ]
     },
     "execution_count": 102,
     "metadata": {},
     "output_type": "execute_result"
    }
   ],
   "source": [
    "conjunto1.union(conjunto2)"
   ]
  },
  {
   "cell_type": "markdown",
   "metadata": {},
   "source": [
    "4. Obtén la intersección de conjunto1 y conjunto2."
   ]
  },
  {
   "cell_type": "code",
   "execution_count": 103,
   "metadata": {},
   "outputs": [
    {
     "data": {
      "text/plain": [
       "{4, 5}"
      ]
     },
     "execution_count": 103,
     "metadata": {},
     "output_type": "execute_result"
    }
   ],
   "source": [
    "conjunto1.intersection(conjunto2)"
   ]
  },
  {
   "cell_type": "markdown",
   "metadata": {},
   "source": [
    "5. Obtén los elementos que están en conjunto1 pero no en el conjunto2."
   ]
  },
  {
   "cell_type": "code",
   "execution_count": 104,
   "metadata": {},
   "outputs": [
    {
     "data": {
      "text/plain": [
       "{1, 2, 3}"
      ]
     },
     "execution_count": 104,
     "metadata": {},
     "output_type": "execute_result"
    }
   ],
   "source": [
    "conjunto1.difference(conjunto2)"
   ]
  },
  {
   "cell_type": "markdown",
   "metadata": {},
   "source": [
    "**Parte 6: Sentencias de Control**"
   ]
  },
  {
   "cell_type": "markdown",
   "metadata": {},
   "source": [
    "1. Ejercicio 1: Evaluación de Edades:\n",
    "- Escribe un programa que solicite al usuario ingresar su edad.\n",
    "- Si la edad es menor de 18, muestra \"Eres menor de edad\".\n",
    "- Si la edad está entre 18 y 65 (incluyendo ambos extremos), muestra \"Eres adulto\".\n",
    "- Si la edad es mayor que 65, muestra \"Eres un adulto mayor\"."
   ]
  },
  {
   "cell_type": "code",
   "execution_count": 107,
   "metadata": {},
   "outputs": [
    {
     "name": "stdout",
     "output_type": "stream",
     "text": [
      "Eres un adulto mayor\n"
     ]
    }
   ],
   "source": [
    "edad = int(input(\"Indique su edad\"))\n",
    "#primer segmento\n",
    "if edad < 18:\n",
    "    print(\"Eres menor de edad\")\n",
    "#segundo segmento\n",
    "elif 18 <= edad <= 65:\n",
    "    print(\"Eres adulto\")\n",
    "#tercer segmento\n",
    "else:\n",
    "    print(\"Eres un adulto mayor\")\n",
    " "
   ]
  },
  {
   "cell_type": "markdown",
   "metadata": {},
   "source": [
    "2. Ejercicio 2: Determinación de Día de la Semana\n",
    "- Solicita al usuario que ingrese un número del 1 al 7.\n",
    "- Utilizando una serie de if-elif-else, muestra el día de la semana correspondiente al número ingresado. Por ejemplo, si ingresa 1, muestra \"Lunes\"."
   ]
  },
  {
   "cell_type": "code",
   "execution_count": 109,
   "metadata": {},
   "outputs": [
    {
     "name": "stdout",
     "output_type": "stream",
     "text": [
      "Viernes\n"
     ]
    }
   ],
   "source": [
    "numero_dia = int(input(\"Introduzca un numero del 1 al 7\"))\n",
    "\n",
    "if numero_dia == 1:\n",
    "    print(\"Lunes\")\n",
    "\n",
    "elif numero_dia == 2:\n",
    "    print(\"Martes\")\n",
    "\n",
    "elif numero_dia == 3:\n",
    "    print(\"Miercoles\")\n",
    "\n",
    "elif numero_dia == 4:\n",
    "    print(\"Jueves\")\n",
    "\n",
    "elif numero_dia == 5:\n",
    "    print(\"Viernes\")\n",
    "\n",
    "elif numero_dia == 6:\n",
    "    print(\"Sabado\")\n",
    "\n",
    "elif numero_dia == 7:\n",
    "    print(\"Domingo\")\n",
    "\n",
    "else:\n",
    "    print(\"Error, introduzca un numero del 1 al 7\")"
   ]
  },
  {
   "cell_type": "code",
   "execution_count": 155,
   "metadata": {},
   "outputs": [
    {
     "name": "stdout",
     "output_type": "stream",
     "text": [
      "No es un dia de la semana\n"
     ]
    }
   ],
   "source": [
    "#como hacerlo con un diccionario. NO ME SALE, REVISAR\n",
    "\n",
    "semana ={\"Lunes\" : 1, \"Martes\" : 2, \"Miercoles\" : 3, \"Jueves\" : 4, \"Viernes\" : 5, \"Sabado\" : 6, \"Domingo\" : 7}\n",
    "dia = input()\n",
    "\n",
    "if dia in semana.values():\n",
    "    print(semana[dia])\n",
    "\n",
    "else:\n",
    "    print(\"No es un dia de la semana\")"
   ]
  },
  {
   "cell_type": "markdown",
   "metadata": {},
   "source": [
    "3. Ejercicio 3: Juego de Adivinanza\n",
    "- Genera un número aleatorio entre 1 y 100.\n",
    "- Pídele al usuario que adivine el número.\n",
    "- Si el usuario adivina correctamente en el primer intento, muestra \"¡Ganaste en el primer intento!\".\n",
    "- Si el usuario no adivina en el primer intento, bríndale pistas (mayor o menor) y permite que intente nuevamente. Muestra cuántos intentos le llevó al final"
   ]
  },
  {
   "cell_type": "code",
   "execution_count": 138,
   "metadata": {},
   "outputs": [
    {
     "name": "stdout",
     "output_type": "stream",
     "text": [
      "El numero que has introducido es 10\n",
      "El numero de la maquina es mas grande\n",
      "Llevas 1 intentos\n",
      "El numero que has introducido es 20\n",
      "El numero de la maquina es mas grande\n",
      "Llevas 2 intentos\n",
      "El numero que has introducido es 50\n",
      "El numero de la maquina es mas grande\n",
      "Llevas 3 intentos\n",
      "El numero que has introducido es 70\n",
      "El numero de la maquina es mas pequeño\n",
      "Llevas 4 intentos\n",
      "El numero que has introducido es 60\n",
      "El numero de la maquina es mas pequeño\n",
      "Llevas 5 intentos\n",
      "El numero que has introducido es 55\n",
      "El numero de la maquina es mas grande\n",
      "Llevas 6 intentos\n",
      "¡Has acertado en el intento numero 7!\n"
     ]
    }
   ],
   "source": [
    "#importamos libreria random\n",
    "import random\n",
    "#seleccionamos un numero aleatorio del 1 al 100\n",
    "numero_maquina = random.choice(range(1, 100))\n",
    "#pedimos al usuario que introduzca su primer intento\n",
    "numero_usuario = int(input(\"Introduzca un numero\"))\n",
    "intentos = 0\n",
    "#mientras los numeros no coincidan\n",
    "while numero_maquina != numero_usuario:\n",
    "    #pedimos al usuario que introduzca su primer intento\n",
    "    numero_usuario = int(input(\"Introduzca un numero\"))\n",
    "\n",
    "    print(f\"El numero que has introducido es {numero_usuario}\")\n",
    "    #si el numero dado por el usuario es mayor que el numero secreto damos pista\n",
    "    if numero_maquina < numero_usuario:\n",
    "        print(\"El numero de la maquina es mas pequeño\")\n",
    "        print(f\"Llevas {intentos} intentos\")\n",
    "    #si el numero dado por el usuario es menor que el numero secreto damos pista\n",
    "    else:\n",
    "        print(\"El numero de la maquina es mas grande\")\n",
    "        print(f\"Llevas {intentos} intentos\")\n",
    "    #añadimos 1 intento cada vez hasta que acierte\n",
    "    intentos += 1\n",
    "#cuando coincidan los numeros, si solo ha necesitado 1 intento\n",
    "if numero_maquina == numero_usuario and intentos == 1:\n",
    "    print(\"¡Ganaste en el primer intento!\")\n",
    "#si ha necesitado mas de 1 intento\n",
    "elif numero_maquina == numero_usuario and intentos != 1:\n",
    "    print(f\"¡Has acertado en el intento numero {intentos}!\")\n"
   ]
  },
  {
   "cell_type": "markdown",
   "metadata": {},
   "source": [
    "4. Ejercicio 4: Juego de Adivinar la Palabra\n",
    "- Elige una palabra secreta y ocúltala utilizando asteriscos, por ejemplo, \"secreto\" se muestra como \"*******\".\n",
    "- Permite al usuario adivinar letras una por una.\n",
    "- Si la letra adivinada está en la palabra secreta, muestra la palabra con las letras descubiertas y los asteriscos.\n",
    "- Si la letra no está en la palabra secreta, resta una vida al jugador.\n",
    "- El juego continúa hasta que el jugador adivine la palabra."
   ]
  },
  {
   "cell_type": "code",
   "execution_count": 10,
   "metadata": {},
   "outputs": [
    {
     "name": "stdout",
     "output_type": "stream",
     "text": [
      "La letra que has introducido es \n",
      "Esa letra no esta en la palabra, la palabra esta asi: ****\n",
      "La letra que has introducido es p\n",
      "Esa letra no esta en la palabra, la palabra esta asi: ****\n",
      "La letra que has introducido es a\n",
      "Has acertado una letra, la palabra esta asi: *a**\n",
      "La letra que has introducido es g\n",
      "Has acertado una letra, la palabra esta asi: ga**\n",
      "La letra que has introducido es o\n",
      "Has acertado una letra, la palabra esta asi: ga*o\n",
      "La letra que has introducido es \n",
      "Esa letra no esta en la palabra, la palabra esta asi: ga*o\n",
      "La letra que has introducido es \n",
      "Esa letra no esta en la palabra, la palabra esta asi: ga*o\n",
      "La letra que has introducido es t\n",
      "Has acertado una letra, la palabra esta asi: gato\n",
      "Enhorabuena, has acertado la palabra gato, has gastado -4 vidas\n"
     ]
    }
   ],
   "source": [
    "palabra_secreta = \"gato\"\n",
    "palabra_mostrar = \"****\"\n",
    "#creamos una lista con las letras de cada string para poder sacar la posicion exacta de las mismas\n",
    "lista_ps = list(palabra_secreta)\n",
    "lista_pm = list(palabra_mostrar)\n",
    "#pedimos al usuario una primera letra\n",
    "letra = input(\"Introduzca una letra\")\n",
    "#añadimos las vidas aunque no hay un maximo, es solo para llevar la cuenta\n",
    "vidas = 0\n",
    "#mientras que los strings no coincidan\n",
    "while palabra_mostrar != palabra_secreta:\n",
    "    \n",
    "    print(f\"La letra que has introducido es {letra}\")\n",
    "    #si la letra que da el usuario esta en la palabra secreta\n",
    "    if letra in lista_ps:\n",
    "        #eliminamos el * correspondiente segun el indice de la letra dada por el usario\n",
    "        lista_pm.pop(lista_ps.index(letra))\n",
    "        #insertamos la letra donde estaba el * que hemos eliminado\n",
    "        lista_pm.insert(lista_ps.index(letra), letra)\n",
    "        #unimos de nuevo la palabra oculta para mostrarla con la nueva letra revelada\n",
    "        palabra_mostrar = \"\".join(lista_pm)\n",
    "        #mostramos el resultado al usuario\n",
    "        print(f\"Has acertado una letra, la palabra esta asi: {palabra_mostrar}\")\n",
    "        \n",
    "    #si la letra que da el ususario no coincide con ninguna de la palabra secreta\n",
    "    else:\n",
    "        vidas -= 1\n",
    "        #mostramos el resultado al usuario\n",
    "        print(f\"Esa letra no esta en la palabra, la palabra esta asi: {palabra_mostrar}\")\n",
    "    #pedimos otra letra hasta que se complete la palabra\n",
    "    letra = input(\"Introduzca otra letra\")\n",
    "    \n",
    "#una vez coincidan los 2 strings\n",
    "print(f\"Enhorabuena, has acertado la palabra {palabra_mostrar}, has gastado {vidas} vidas\")\n",
    "        \n",
    "\n"
   ]
  },
  {
   "cell_type": "code",
   "execution_count": 8,
   "metadata": {},
   "outputs": [],
   "source": [
    "palabra_secreta = \"gato\"\n",
    "palabra_mostrar = \"casi\""
   ]
  },
  {
   "cell_type": "code",
   "execution_count": 7,
   "metadata": {},
   "outputs": [
    {
     "name": "stdout",
     "output_type": "stream",
     "text": [
      "La letra que has introducido es p\n",
      "Esa letra no esta en la palabra, la palabra esta asi: ****\n",
      "La letra que has introducido es g\n",
      "Has acertado una letra, la palabra esta asi: gggg\n",
      "La letra que has introducido es a\n",
      "Has acertado una letra, la palabra esta asi: aaaa\n",
      "La letra que has introducido es t\n",
      "Has acertado una letra, la palabra esta asi: tttt\n",
      "La letra que has introducido es t\n",
      "Has acertado una letra, la palabra esta asi: tttt\n"
     ]
    }
   ],
   "source": [
    "palabra_secreta = \"gato\"\n",
    "palabra_mostrar = \"****\"\n",
    "#añadimos las vidas\n",
    "vidas = 10\n",
    "#mientras que los strings no coincidan y las vidas sean + de 0\n",
    "while palabra_mostrar != palabra_secreta and vidas >= 1:\n",
    "    #pedimos al usuario una primera letra\n",
    "    letra = input(\"Introduzca una letra\")\n",
    "    print(f\"La letra que has introducido es {letra}\")\n",
    "    #si la letra que da el usuario esta en la palabra secreta\n",
    "    if letra in palabra_secreta:\n",
    "        palabra_mostrar = palabra_mostrar.replace(palabra_mostrar[palabra_secreta.index(letra)], letra) #no vale porque te da el indice de la primera aparicion de * por lo tanto cambia todos los * por la letra\n",
    "        palabra_mostrar[palabra_secreta.index(letra)] = letra # tampoco vale porque string no soporta una asignacion directa\n",
    "        #mostramos el resultado al usuario\n",
    "        print(f\"Has acertado una letra, la palabra esta asi: {palabra_mostrar}\")\n",
    "        \n",
    "    #si la letra que da el ususario no coincide con ninguna de la palabra secreta\n",
    "    else:\n",
    "        vidas -= 1\n",
    "        #mostramos el resultado al usuario\n",
    "        print(f\"Esa letra no esta en la palabra, la palabra esta asi: {palabra_mostrar}\")\n",
    "if vidas == 0:\n",
    "    print(\"Te has quedado sin vidas\")\n",
    "else:   \n",
    "#una vez coincidan los 2 strings\n",
    "    print(f\"Enhorabuena, has acertado la palabra {palabra_mostrar}, has gastado {vidas} vidas\")\n",
    "        "
   ]
  },
  {
   "cell_type": "code",
   "execution_count": 13,
   "metadata": {},
   "outputs": [
    {
     "ename": "TypeError",
     "evalue": "'str' object does not support item assignment",
     "output_type": "error",
     "traceback": [
      "\u001b[0;31m---------------------------------------------------------------------------\u001b[0m",
      "\u001b[0;31mTypeError\u001b[0m                                 Traceback (most recent call last)",
      "\u001b[0;32m/tmp/ipykernel_23054/1495058542.py\u001b[0m in \u001b[0;36m<module>\u001b[0;34m\u001b[0m\n\u001b[0;32m----> 1\u001b[0;31m \u001b[0mpalabra_mostrar\u001b[0m\u001b[0;34m[\u001b[0m\u001b[0mpalabra_secreta\u001b[0m\u001b[0;34m.\u001b[0m\u001b[0mindex\u001b[0m\u001b[0;34m(\u001b[0m\u001b[0;34m\"o\"\u001b[0m\u001b[0;34m)\u001b[0m\u001b[0;34m]\u001b[0m \u001b[0;34m=\u001b[0m \u001b[0;34m\"p\"\u001b[0m\u001b[0;34m\u001b[0m\u001b[0;34m\u001b[0m\u001b[0m\n\u001b[0m",
      "\u001b[0;31mTypeError\u001b[0m: 'str' object does not support item assignment"
     ]
    }
   ],
   "source": [
    "palabra_mostrar[palabra_secreta.index(\"o\")] = \"p\""
   ]
  },
  {
   "cell_type": "code",
   "execution_count": 12,
   "metadata": {},
   "outputs": [
    {
     "data": {
      "text/plain": [
       "3"
      ]
     },
     "execution_count": 12,
     "metadata": {},
     "output_type": "execute_result"
    }
   ],
   "source": [
    "palabra_mostrar.index(palabra_mostrar[palabra_secreta.index(\"o\")])\n"
   ]
  },
  {
   "cell_type": "code",
   "execution_count": 5,
   "metadata": {},
   "outputs": [
    {
     "name": "stdout",
     "output_type": "stream",
     "text": [
      "pppp\n"
     ]
    }
   ],
   "source": [
    "palabra_mostrar = palabra_mostrar.replace(palabra_mostrar[palabra_secreta.index(\"o\")], \"p\")\n",
    "print(palabra_mostrar)"
   ]
  }
 ],
 "metadata": {
  "kernelspec": {
   "display_name": "base",
   "language": "python",
   "name": "python3"
  },
  "language_info": {
   "codemirror_mode": {
    "name": "ipython",
    "version": 3
   },
   "file_extension": ".py",
   "mimetype": "text/x-python",
   "name": "python",
   "nbconvert_exporter": "python",
   "pygments_lexer": "ipython3",
   "version": "3.9.7"
  }
 },
 "nbformat": 4,
 "nbformat_minor": 2
}
